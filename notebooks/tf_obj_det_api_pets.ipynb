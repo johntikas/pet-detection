{
  "nbformat": 4,
  "nbformat_minor": 0,
  "metadata": {
    "colab": {
      "name": "tf-obj-det-api-pets.ipynb",
      "provenance": [],
      "collapsed_sections": [],
      "toc_visible": true
    },
    "kernelspec": {
      "name": "python3",
      "display_name": "Python 3"
    },
    "accelerator": "GPU"
  },
  "cells": [
    {
      "cell_type": "markdown",
      "metadata": {
        "id": "se0N3xOst-b_"
      },
      "source": [
        "# Tensorflow Object Detection API - Tutorial\n",
        "This tutorial serves as an introduction to the basic workflows surrounding the use of the most popular research model in Tensorflow, the Object Detection API. Here we go through all the steps required to setup a development environment for assembling a dataset, preparing the input files, training detection models and running data through them. We demonstrate all the above by using the Oxford-IIIT Pet Dataset."
      ]
    },
    {
      "cell_type": "markdown",
      "metadata": {
        "id": "hQ0mMWHGvohp"
      },
      "source": [
        "## Environment setup"
      ]
    },
    {
      "cell_type": "markdown",
      "metadata": {
        "id": "YCBAM9IZMisl"
      },
      "source": [
        "Check the GPU type assigned to your instance."
      ]
    },
    {
      "cell_type": "code",
      "metadata": {
        "id": "q-spuKmqhDzT"
      },
      "source": [
        "!nvidia-smi"
      ],
      "execution_count": null,
      "outputs": []
    },
    {
      "cell_type": "markdown",
      "metadata": {
        "id": "CsIr_dEdMuYT"
      },
      "source": [
        "Browse information about the instance's CPU."
      ]
    },
    {
      "cell_type": "code",
      "metadata": {
        "id": "h-tSrfuo2Sqg"
      },
      "source": [
        "!lscpu"
      ],
      "execution_count": null,
      "outputs": []
    },
    {
      "cell_type": "markdown",
      "metadata": {
        "id": "DIU2RagzM30g"
      },
      "source": [
        "## Installation - Dependencies"
      ]
    },
    {
      "cell_type": "code",
      "metadata": {
        "id": "Yx7Y_G5N1Z7Z"
      },
      "source": [
        "use_my_drive = False\n",
        "\n",
        "if use_my_drive:\n",
        "    from google.colab import drive\n",
        "    drive.mount('/content/drive', force_remount=False)\n",
        "\n",
        "    from os import chdir\n",
        "    chdir(\"/content/drive/My Drive/\")"
      ],
      "execution_count": null,
      "outputs": []
    },
    {
      "cell_type": "code",
      "metadata": {
        "id": "TWrWHzHM3-YX"
      },
      "source": [
        "!pwd"
      ],
      "execution_count": null,
      "outputs": []
    },
    {
      "cell_type": "code",
      "metadata": {
        "id": "ZSEdc6ElIg94"
      },
      "source": [
        "!git clone https://github.com/tensorflow/models"
      ],
      "execution_count": null,
      "outputs": []
    },
    {
      "cell_type": "code",
      "metadata": {
        "id": "REQ1C4HLJ6fs"
      },
      "source": [
        "%%bash\n",
        "cd models\n",
        "git reset --hard 126ce65\n",
        "rm -rf .git"
      ],
      "execution_count": null,
      "outputs": []
    },
    {
      "cell_type": "code",
      "metadata": {
        "id": "MN_5c4eXt-C9"
      },
      "source": [
        "!pip install -U --pre tensorflow==\"2.3.0\"\n",
        "!pip install tf_slim"
      ],
      "execution_count": null,
      "outputs": []
    },
    {
      "cell_type": "code",
      "metadata": {
        "id": "4QAK3wO4MYD5"
      },
      "source": [
        "!apt-get install git protobuf-compiler python3-pil python3-lxml python3-tk\n",
        "!pip install --user Cython\n",
        "!pip install --user contextlib2\n",
        "!pip install --user jupyter\n",
        "!pip install --user matplotlib"
      ],
      "execution_count": null,
      "outputs": []
    },
    {
      "cell_type": "code",
      "metadata": {
        "id": "FkU9F7ypH7ya"
      },
      "source": [
        "!pip install --user pycocotools"
      ],
      "execution_count": null,
      "outputs": []
    },
    {
      "cell_type": "code",
      "metadata": {
        "id": "hh7fUZaCH71t"
      },
      "source": [
        "%cd models/research/"
      ],
      "execution_count": null,
      "outputs": []
    },
    {
      "cell_type": "code",
      "metadata": {
        "id": "DSGdi_MAXU1O"
      },
      "source": [
        "!protoc object_detection/protos/*.proto --python_out=."
      ],
      "execution_count": null,
      "outputs": []
    },
    {
      "cell_type": "code",
      "metadata": {
        "id": "OxAviQDZXU5J"
      },
      "source": [
        "!pip install ."
      ],
      "execution_count": null,
      "outputs": []
    },
    {
      "cell_type": "code",
      "metadata": {
        "id": "FVg4u-ivpRrH"
      },
      "source": [
        "%env PYTHONPATH=/env/python:/content/models:/content/models/research/slim"
      ],
      "execution_count": null,
      "outputs": []
    },
    {
      "cell_type": "code",
      "metadata": {
        "id": "-3cKyy7So9_K"
      },
      "source": [
        "import sys\n",
        "sys.path.append('/content/models')"
      ],
      "execution_count": null,
      "outputs": []
    },
    {
      "cell_type": "code",
      "metadata": {
        "id": "VDyawSkkpBIs"
      },
      "source": [
        "!python object_detection/builders/model_builder_tf2_test.py"
      ],
      "execution_count": null,
      "outputs": []
    },
    {
      "cell_type": "markdown",
      "metadata": {
        "id": "09Or6vuvC900"
      },
      "source": [
        "## Data preparation"
      ]
    },
    {
      "cell_type": "code",
      "metadata": {
        "id": "8ti7CI2NpzmJ"
      },
      "source": [
        "!mkdir data data/tfrecords"
      ],
      "execution_count": null,
      "outputs": []
    },
    {
      "cell_type": "code",
      "metadata": {
        "id": "v3Erjrp6DRO6"
      },
      "source": [
        "!wget http://www.robots.ox.ac.uk/~vgg/data/pets/data/images.tar.gz\n",
        "!wget http://www.robots.ox.ac.uk/~vgg/data/pets/data/annotations.tar.gz\n",
        "!tar -xvf images.tar.gz\n",
        "!tar -xvf annotations.tar.gz\n",
        "!rm -rf images.tar.gz\n",
        "!rm -rf annotations.tar.gz\n",
        "!mv images data/\n",
        "!mv annotations data/"
      ],
      "execution_count": null,
      "outputs": []
    },
    {
      "cell_type": "code",
      "metadata": {
        "id": "9PD0zBM8OjCJ"
      },
      "source": [
        "!git clone https://github.com/johntikas/pet-detection"
      ],
      "execution_count": null,
      "outputs": []
    },
    {
      "cell_type": "code",
      "metadata": {
        "id": "FHyIOy3EO5R8"
      },
      "source": [
        "!cp -avr pet-detection/images ."
      ],
      "execution_count": null,
      "outputs": []
    },
    {
      "cell_type": "code",
      "metadata": {
        "id": "N_pjXkssRZcT"
      },
      "source": [
        "!cp -avr pet-detection/xmls annotations/"
      ],
      "execution_count": null,
      "outputs": []
    },
    {
      "cell_type": "code",
      "metadata": {
        "id": "5QbTLZEbicAy"
      },
      "source": [
        "!python object_detection/dataset_tools/create_pet_tf_record.py \\\n",
        " --label_map_path=object_detection/data/pet_label_map.pbtxt \\\n",
        " --faces_only=False \\\n",
        " --data_dir=data \\\n",
        " --output_dir=data/tfrecords"
      ],
      "execution_count": null,
      "outputs": []
    },
    {
      "cell_type": "code",
      "metadata": {
        "id": "E2G0C-ZqpPhc"
      },
      "source": [
        "!wget http://download.tensorflow.org/models/object_detection/tf2/20200711/mask_rcnn_inception_resnet_v2_1024x1024_coco17_gpu-8.tar.gz\n",
        "!tar -xvf mask_rcnn_inception_resnet_v2_1024x1024_coco17_gpu-8.tar.gz\n",
        "!rm -rf mask_rcnn_inception_resnet_v2_1024x1024_coco17_gpu-8.tar.gz"
      ],
      "execution_count": null,
      "outputs": []
    },
    {
      "cell_type": "markdown",
      "metadata": {
        "id": "32YfVjgODKbt"
      },
      "source": [
        "## Model - Training"
      ]
    },
    {
      "cell_type": "code",
      "metadata": {
        "id": "vmGnPWB4DRqP"
      },
      "source": [
        "!python object_detection/model_main_tf2.py \\\n",
        "--logtostderr \\\n",
        "--pipeline_config_path=pet-detection/configs/mask_rcnn_inception_resnet_v2_pets.config \\\n",
        "--model_dir=model"
      ],
      "execution_count": null,
      "outputs": []
    },
    {
      "cell_type": "markdown",
      "metadata": {
        "id": "WUrZk3f0DNr9"
      },
      "source": [
        "## Model - Inference"
      ]
    },
    {
      "cell_type": "code",
      "metadata": {
        "id": "BfJmn4B8TP2-"
      },
      "source": [
        "!python object_detection/exporter_main_v2.py \\\n",
        "--input_type=image_tensor \\\n",
        "--pipeline_config_path=pet-detection/configs/mask_rcnn_inception_resnet_v2_pets.config \\\n",
        "--trained_checkpoint_dir=model \\\n",
        "--output_directory=model/export"
      ],
      "execution_count": null,
      "outputs": []
    },
    {
      "cell_type": "code",
      "metadata": {
        "id": "ENBUXSIjT2Hq"
      },
      "source": [
        "import tensorflow as tf\n",
        "\n",
        "import matplotlib\n",
        "import matplotlib.pyplot as plt\n",
        "\n",
        "import io\n",
        "import os\n",
        "import pathlib\n",
        "import scipy.misc\n",
        "import numpy as np\n",
        "from six import BytesIO\n",
        "from PIL import Image, ImageDraw, ImageFont\n",
        "\n",
        "from object_detection.utils import label_map_util\n",
        "from object_detection.utils import config_util\n",
        "from object_detection.utils import visualization_utils as viz_utils\n",
        "from object_detection.builders import model_builder\n",
        "\n",
        "%matplotlib inline"
      ],
      "execution_count": null,
      "outputs": []
    },
    {
      "cell_type": "code",
      "metadata": {
        "id": "jpkuGQ2UxDzT"
      },
      "source": [
        "def load_image_into_numpy_array(path):\n",
        "    img_data = tf.io.gfile.GFile(path, 'rb').read()\n",
        "    image = Image.open(BytesIO(img_data))\n",
        "    (im_width, im_height) = image.size\n",
        "    return np.array(image.getdata()).reshape(\n",
        "        (im_height, im_width, 3)).astype(np.uint8)\n",
        "\n",
        "def get_keypoint_tuples(eval_config):\n",
        "    tuple_list = []\n",
        "    kp_list = eval_config.keypoint_edge\n",
        "    for edge in kp_list:\n",
        "      tuple_list.append((edge.start, edge.end))\n",
        "    return tuple_list"
      ],
      "execution_count": null,
      "outputs": []
    },
    {
      "cell_type": "code",
      "metadata": {
        "id": "qE3VIssK3X6h"
      },
      "source": [
        "current_dir = os.getcwd()\n",
        "config_dir = '/pet-detection/configs/mask_rcnn_inception_resnet_v2_pets.config'\n",
        "pipeline_config = os.path.join(current_dir + config_dir)\n",
        "model_dir = current_dir + 'model/'\n",
        "\n",
        "# Load pipeline config and build a detection model\n",
        "configs = config_util.get_configs_from_pipeline_file(pipeline_config)\n",
        "model_config = configs['model']\n",
        "detection_model = model_builder.build(\n",
        "      model_config=model_config, is_training=False)\n",
        "\n",
        "# Restore checkpoint\n",
        "ckpt = tf.compat.v2.train.Checkpoint(model=detection_model)\n",
        "# ckpt.restore(os.path.join(model_dir, 'ckpt-0')).expect_partial()\n",
        "\n",
        "def get_model_detection_function(model):\n",
        "  @tf.function\n",
        "  def detect_fn(image):\n",
        "    image, shapes = model.preprocess(image)\n",
        "    prediction_dict = model.predict(image, shapes)\n",
        "    detections = model.postprocess(prediction_dict, shapes)\n",
        "    return detections, prediction_dict, tf.reshape(shapes, [-1])\n",
        "  return detect_fn\n",
        "\n",
        "detect_fn = get_model_detection_function(detection_model)"
      ],
      "execution_count": null,
      "outputs": []
    },
    {
      "cell_type": "code",
      "metadata": {
        "id": "44HwWgH26ebB"
      },
      "source": [
        "label_map_path = configs['eval_input_config'].label_map_path\n",
        "label_map = label_map_util.load_labelmap(label_map_path)\n",
        "categories = label_map_util.convert_label_map_to_categories(\n",
        "    label_map,\n",
        "    max_num_classes=label_map_util.get_max_label_map_index(label_map),\n",
        "    use_display_name=True)\n",
        "category_index = label_map_util.create_category_index(categories)\n",
        "label_map_dict = label_map_util.get_label_map_dict(label_map, use_display_name=False)"
      ],
      "execution_count": null,
      "outputs": []
    },
    {
      "cell_type": "code",
      "metadata": {
        "id": "R5ukfZ6t6f_e"
      },
      "source": [
        "image_dir = '/content/models/research/data/images/'\n",
        "image_path = os.path.join(image_dir, 'Abyssinian_100.jpg')\n",
        "image_np = load_image_into_numpy_array(image_path)\n",
        "input_tensor = tf.convert_to_tensor(\n",
        "    np.expand_dims(image_np, 0), dtype=tf.float32)\n",
        "detections, predictions_dict, shapes = detect_fn(input_tensor)\n",
        "\n",
        "label_id_offset = 1\n",
        "image_np_with_detections = image_np.copy()\n",
        "\n",
        "# Use keypoints if available in detections\n",
        "keypoints, keypoint_scores = None, None\n",
        "if 'detection_keypoints' in detections:\n",
        "  keypoints = detections['detection_keypoints'][0].numpy()\n",
        "  keypoint_scores = detections['detection_keypoint_scores'][0].numpy()\n",
        "\n",
        "viz_utils.visualize_boxes_and_labels_on_image_array(\n",
        "      image_np_with_detections,\n",
        "      detections['detection_boxes'][0].numpy(),\n",
        "      (detections['detection_classes'][0].numpy() + label_id_offset).astype(int),\n",
        "      detections['detection_scores'][0].numpy(),\n",
        "      category_index,\n",
        "      use_normalized_coordinates=True,\n",
        "      max_boxes_to_draw=200,\n",
        "      min_score_thresh=.30,\n",
        "      agnostic_mode=False,\n",
        "      keypoints=keypoints,\n",
        "      keypoint_scores=keypoint_scores,\n",
        "      keypoint_edges=get_keypoint_tuples(configs['eval_config']))\n",
        "\n",
        "plt.figure(figsize=(12,16))\n",
        "plt.imshow(image_np_with_detections)\n",
        "plt.show()"
      ],
      "execution_count": null,
      "outputs": []
    }
  ]
}